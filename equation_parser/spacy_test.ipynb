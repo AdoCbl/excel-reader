{
 "cells": [
  {
   "cell_type": "code",
   "execution_count": 1,
   "id": "677ab32c",
   "metadata": {},
   "outputs": [],
   "source": [
    "import spacy\n",
    "import re"
   ]
  },
  {
   "cell_type": "code",
   "execution_count": 2,
   "id": "ea98df10",
   "metadata": {},
   "outputs": [],
   "source": [
    "equation_list = [\n",
    "    \"(current month-end discount factor / prior month-end discount factor - 1) * 12\",\n",
    "    \"(1 + monthly rate) ^ 12\",\n",
    "    \"(Prior Month Ending Loan Count) * Gross Default SMM\",\n",
    "    \"(1 - (1 - Curtail SMM)^12)\",\n",
    "    \"WAC - (Note Rate - Coupon Rate)\",\n",
    "    \"Future Non-Earning FCL Completion Amount * (Foreclosure Convery % + Foreclosure Deed in Lieu %) * (Presale Months + Postsale Months)\",\n",
    "    \"Net Default Count * (1-(Recovery% + Payoff% + Modification%))\",\n",
    "    \"Foreclosure Count *(1-On-Time Refereral%)\",\n",
    "    \"this is pure description, no math operators\",\n",
    "    \"this is pure description, no math operators, for month-end\",\n",
    "]"
   ]
  },
  {
   "cell_type": "code",
   "execution_count": 3,
   "id": "a034956e",
   "metadata": {},
   "outputs": [
    {
     "name": "stdout",
     "output_type": "stream",
     "text": [
      "['current month-end discount factor', 'prior month-end discount factor']\n",
      "['monthly rate']\n",
      "['Prior Month Ending Loan Count', 'Gross Default SMM']\n",
      "['Curtail SMM']\n",
      "['WAC', 'Note Rate', 'Coupon Rate']\n",
      "['Future Non-Earning FCL Completion Amount', 'Foreclosure Convery %', 'Foreclosure Deed', 'Lieu', '%', 'Presale Months']\n",
      "['Net Default Count', '-,Recovery%', 'Payoff%', 'Modification%']\n",
      "['Foreclosure Count ,-On-Time Refereral%']\n",
      "['this', 'pure description']\n",
      "['this', 'pure description', 'no math operators', 'month-end']\n"
     ]
    }
   ],
   "source": [
    "# Load a pre-trained spaCy model\n",
    "# If you don't have it, run: python -m spacy download en_core_web_sm\n",
    "nlp = spacy.load(\"en_core_web_sm\")\n",
    "\n",
    "# Process each equation in the list\n",
    "all_variables = []\n",
    "for equation in equation_list:\n",
    "    # Replace operators and numbers with commas to act as delimiters\n",
    "    cleaned_equation = re.sub(r'[\\(\\)\\/\\*\\+\\^0-9]|\\s-\\s', ',', equation)\n",
    "    # Collapse multiple commas into a single one\n",
    "    cleaned_equation = re.sub(r',+', ',', cleaned_equation)\n",
    "    \n",
    "    doc = nlp(cleaned_equation)\n",
    "    # Extract noun phrases and clean up any extra whitespace or commas\n",
    "    variables = [chunk.text.strip(\" ,\") for chunk in doc.noun_chunks if chunk.text.strip(\" ,\")]\n",
    "    all_variables.append(variables)\n",
    "\n",
    "for var in all_variables:\n",
    "    print(var)"
   ]
  }
 ],
 "metadata": {
  "kernelspec": {
   "display_name": "excel-reader",
   "language": "python",
   "name": "python3"
  },
  "language_info": {
   "codemirror_mode": {
    "name": "ipython",
    "version": 3
   },
   "file_extension": ".py",
   "mimetype": "text/x-python",
   "name": "python",
   "nbconvert_exporter": "python",
   "pygments_lexer": "ipython3",
   "version": "3.11.9"
  }
 },
 "nbformat": 4,
 "nbformat_minor": 5
}
