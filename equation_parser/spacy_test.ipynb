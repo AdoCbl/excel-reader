{
 "cells": [
  {
   "cell_type": "code",
   "execution_count": 16,
   "id": "677ab32c",
   "metadata": {},
   "outputs": [],
   "source": [
    "import spacy\n",
    "import re"
   ]
  },
  {
   "cell_type": "code",
   "execution_count": 21,
   "id": "ea98df10",
   "metadata": {},
   "outputs": [],
   "source": [
    "equation_list = [\n",
    "    \"(current month-end discount factor / prior month-end discount factor - 1) * 12\",\n",
    "    \"(1 + monthly rate) ^ 12\",\n",
    "    \"(Prior Month Ending Loan Count) * Gross Default SMM\",\n",
    "    \"(1 - (1 - Curtail SMM)^12)\"\n",
    "]"
   ]
  },
  {
   "cell_type": "code",
   "execution_count": null,
   "id": "a034956e",
   "metadata": {},
   "outputs": [
    {
     "name": "stdout",
     "output_type": "stream",
     "text": [
      "['current month-end discount factor', 'prior month-end discount factor']\n",
      "['monthly rate']\n",
      "['Prior Month Ending Loan Count    Gross Default SMM']\n",
      "['-   - Curtail SMM']\n"
     ]
    }
   ],
   "source": [
    "# Load a pre-trained spaCy model\n",
    "# If you don't have it, run: python -m spacy download en_core_web_sm\n",
    "nlp = spacy.load(\"en_core_web_sm\")\n",
    "\n",
    "# Process each equation in the list\n",
    "all_variables = []\n",
    "for equation in equation_list:\n",
    "    # Replace operators and numbers with spaces\n",
    "    # This also replaces hyphens that act as subtraction operators (surrounded by spaces)\n",
    "    cleaned_equation = re.sub(r'[\\(\\)\\/\\*\\+\\^0-9]|\\s-\\s', ' ', equation)\n",
    "    \n",
    "    doc = nlp(cleaned_equation)\n",
    "    # Extract noun phrases and clean up any extra whitespace\n",
    "    variables = [chunk.text.strip() for chunk in doc.noun_chunks if chunk.text.strip()]\n",
    "    all_variables.append(variables)\n",
    "\n",
    "for var in all_variables:\n",
    "    print(var)"
   ]
  }
 ],
 "metadata": {
  "kernelspec": {
   "display_name": "excel-reader",
   "language": "python",
   "name": "python3"
  },
  "language_info": {
   "codemirror_mode": {
    "name": "ipython",
    "version": 3
   },
   "file_extension": ".py",
   "mimetype": "text/x-python",
   "name": "python",
   "nbconvert_exporter": "python",
   "pygments_lexer": "ipython3",
   "version": "3.11.9"
  }
 },
 "nbformat": 4,
 "nbformat_minor": 5
}
