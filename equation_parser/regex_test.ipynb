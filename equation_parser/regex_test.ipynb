{
 "cells": [
  {
   "cell_type": "code",
   "execution_count": 16,
   "id": "4d7154fb",
   "metadata": {},
   "outputs": [],
   "source": [
    "import re"
   ]
  },
  {
   "cell_type": "code",
   "execution_count": 17,
   "id": "229b7483",
   "metadata": {},
   "outputs": [],
   "source": [
    "equation_list = [\n",
    "    \"(current month-end discount factor / prior month-end discount factor - 1) * 12\",\n",
    "    \"(1 + monthly rate) ^ 12\",\n",
    "    \"(Prior Month Ending Loan Count) * Gross Default SMM\",\n",
    "    \"(1 - (1 - Curtail SMM)^12)\",\n",
    "    \"WAC - (Note Rate - Coupon Rate)\",\n",
    "    \"Future Non-Earning FCL Completion Amount * (Foreclosure Convery % + Foreclosure Deed in Lieu %) * (Presale Months + Postsale Months)\",\n",
    "    \"Net Default Count * (1-(Recovery% + Payoff% + Modification%))\",\n",
    "    \"Foreclosure Count *(1-On-Time Refereral%)\"\n",
    "]"
   ]
  },
  {
   "cell_type": "code",
   "execution_count": 18,
   "id": "26f10e4c",
   "metadata": {},
   "outputs": [],
   "source": [
    "# extract varaible from the equations\n",
    "# replace all math operators with comma delimiter, including +, -, *, /, ^, (, )\n",
    "# note that hyphen with at least one space before or after is considered a minus sign\n",
    "# return the list of variables for each equation"
   ]
  },
  {
   "cell_type": "code",
   "execution_count": 19,
   "id": "d25a0e63",
   "metadata": {},
   "outputs": [
    {
     "name": "stdout",
     "output_type": "stream",
     "text": [
      "Equation: (current month-end discount factor / prior month-end discount factor - 1) * 12\n",
      "Variables: ['current month-end discount factor', 'prior month-end discount factor']\n",
      "\n",
      "Equation: (1 + monthly rate) ^ 12\n",
      "Variables: ['monthly rate']\n",
      "\n",
      "Equation: (Prior Month Ending Loan Count) * Gross Default SMM\n",
      "Variables: ['Prior Month Ending Loan Count', 'Gross Default SMM']\n",
      "\n",
      "Equation: (1 - (1 - Curtail SMM)^12)\n",
      "Variables: ['Curtail SMM']\n",
      "\n",
      "Equation: WAC - (Note Rate - Coupon Rate)\n",
      "Variables: ['WAC', 'Note Rate', 'Coupon Rate']\n",
      "\n",
      "Equation: Future Non-Earning FCL Completion Amount * (Foreclosure Convery % + Foreclosure Deed in Lieu %) * (Presale Months + Postsale Months)\n",
      "Variables: ['Future Non-Earning FCL Completion Amount', 'Foreclosure Convery %', 'Foreclosure Deed in Lieu %', 'Presale Months', 'Postsale Months']\n",
      "\n",
      "Equation: Net Default Count * (1-(Recovery% + Payoff% + Modification%))\n",
      "Variables: ['Net Default Count', 'Recovery%', 'Payoff%', 'Modification%']\n",
      "\n",
      "Equation: Foreclosure Count *(1-On-Time Refereral%)\n",
      "Variables: ['Foreclosure Count', '1-On-Time Refereral%']\n",
      "\n"
     ]
    }
   ],
   "source": [
    "def extract_variables(equation):\n",
    "    # Step 1: Replace operators, but not the hyphen, with a comma.\n",
    "    # Operators to replace: +, *, /, ^, (, )\n",
    "    equation_with_commas = re.sub(r\"[\\+\\*/\\^\\(\\)]\", ',', equation)\n",
    "    \n",
    "    # Step 2: Replace hyphens that act as a minus sign with a comma.\n",
    "    # A hyphen is a minus sign if it is surrounded by spaces, or is next to a comma.\n",
    "    # This avoids replacing hyphens within variable names (e.g., \"month-end\").\n",
    "    # The lookbehind (?<=...) and lookahead (?=...) are used to check for this context.\n",
    "    final_comma_separated = re.sub(r'(?<=[\\s,])-(?=[\\s,])|(?<=[\\s,])-|-(?=[\\s,])', ',', equation_with_commas)\n",
    "\n",
    "    # Split by comma to get potential variables\n",
    "    potential_vars = final_comma_separated.split(',')\n",
    "    \n",
    "    variables = []\n",
    "    for var in potential_vars:\n",
    "        # Clean up whitespace\n",
    "        cleaned_var = var.strip()\n",
    "        # Filter out empty strings and numeric values\n",
    "        if cleaned_var and not cleaned_var.isnumeric():\n",
    "            variables.append(cleaned_var)\n",
    "            \n",
    "    return variables\n",
    "\n",
    "# Process each equation in the list\n",
    "for eq in equation_list:\n",
    "    variables = extract_variables(eq)\n",
    "    print(f\"Equation: {eq}\")\n",
    "    print(f\"Variables: {variables}\\n\")"
   ]
  }
 ],
 "metadata": {
  "kernelspec": {
   "display_name": "excel-reader",
   "language": "python",
   "name": "python3"
  },
  "language_info": {
   "codemirror_mode": {
    "name": "ipython",
    "version": 3
   },
   "file_extension": ".py",
   "mimetype": "text/x-python",
   "name": "python",
   "nbconvert_exporter": "python",
   "pygments_lexer": "ipython3",
   "version": "3.11.9"
  }
 },
 "nbformat": 4,
 "nbformat_minor": 5
}
