{
 "cells": [
  {
   "cell_type": "code",
   "execution_count": 18,
   "id": "0b1d52c8",
   "metadata": {},
   "outputs": [],
   "source": [
    "import re\n",
    "import spacy"
   ]
  },
  {
   "cell_type": "code",
   "execution_count": 19,
   "id": "c699fc28",
   "metadata": {},
   "outputs": [],
   "source": [
    "# Load a pre-trained spaCy model\n",
    "# If you don't have it, run: python -m spacy download en_core_web_sm\n",
    "try:\n",
    "    nlp = spacy.load(\"en_core_web_sm\")\n",
    "except OSError:\n",
    "    print(\"Downloading spaCy model 'en_core_web_sm'...\")"
   ]
  },
  {
   "cell_type": "code",
   "execution_count": 20,
   "id": "fe532650",
   "metadata": {},
   "outputs": [],
   "source": [
    "equation_list = [\n",
    "    \"(current month-end discount factor / prior month-end discount factor - 1) * 12\",\n",
    "    \"(1 + monthly rate) ^ 12\",\n",
    "    \"(Prior Month Ending Loan Count) * Gross Default SMM\",\n",
    "    \"(1 - (1 - Curtail SMM)^12)\",\n",
    "    \"WAC - (Note Rate - Coupon Rate)\",\n",
    "    \"Future Non-Earning FCL Completion Amount * (Foreclosure Convery % + Foreclosure Deed in Lieu %) * (Presale Months + Postsale Months)\",\n",
    "    \"Net Default Count * (1-(Recovery% + Payoff% + Modification%))\",\n",
    "    \"Foreclosure Count *(1-On-Time Refereral%)\",\n",
    "    \"this is pure description, no math operators\",\n",
    "    \"this is pure description, no math operators, for month-end\",\n",
    "]"
   ]
  },
  {
   "cell_type": "code",
   "execution_count": 21,
   "id": "79b89759",
   "metadata": {},
   "outputs": [],
   "source": [
    "def extract_variables_regex(equation):\n",
    "    \"\"\"\n",
    "    Extracts variables from an equation string using regular expressions.\n",
    "    Returns an empty list if no math operators are found.\n",
    "    \"\"\"\n",
    "    if not re.search(r\"[\\+\\-\\*/\\^\\(\\)]\", equation):\n",
    "        return []\n",
    "        \n",
    "    equation_with_commas = re.sub(r\"[\\+\\*/\\^\\(\\)]\", ',', equation)\n",
    "    final_comma_separated = re.sub(r'(?<=[\\s,])-(?=[\\s,])|(?<=[\\s,])-|-(?=[\\s,])', ',', equation_with_commas)\n",
    "\n",
    "    potential_vars = final_comma_separated.split(',')\n",
    "    \n",
    "    variables = []\n",
    "    for var in potential_vars:\n",
    "        cleaned_var = var.strip()\n",
    "        if cleaned_var and not cleaned_var.isnumeric():\n",
    "            variables.append(cleaned_var)\n",
    "            \n",
    "    return variables"
   ]
  },
  {
   "cell_type": "code",
   "execution_count": 22,
   "id": "4f399c8a",
   "metadata": {},
   "outputs": [],
   "source": [
    "def extract_variables_spacy(equation):\n",
    "    \"\"\"\n",
    "    Extracts variables from an equation string using spaCy's noun chunking.\n",
    "    \"\"\"\n",
    "    # Replace operators and numbers with commas to act as delimiters\n",
    "    cleaned_equation = re.sub(r'[\\(\\)\\/\\*\\+\\^0-9]|\\s-\\s', ',', equation)\n",
    "    # Collapse multiple commas into a single one\n",
    "    cleaned_equation = re.sub(r',+', ',', cleaned_equation)\n",
    "    \n",
    "    doc = nlp(cleaned_equation)\n",
    "    # Extract noun phrases and clean up any extra whitespace or commas\n",
    "    variables = [chunk.text.strip(\" ,\") for chunk in doc.noun_chunks if chunk.text.strip(\" ,\")]\n",
    "    return variables"
   ]
  },
  {
   "cell_type": "code",
   "execution_count": 23,
   "id": "f8a4f2e6",
   "metadata": {},
   "outputs": [
    {
     "name": "stdout",
     "output_type": "stream",
     "text": [
      "Equation: (current month-end discount factor / prior month-end discount factor - 1) * 12\n",
      "Variables: ['current month-end discount factor', 'prior month-end discount factor']\n",
      "\n",
      "Equation: (1 + monthly rate) ^ 12\n",
      "Variables: ['monthly rate']\n",
      "\n",
      "Equation: (Prior Month Ending Loan Count) * Gross Default SMM\n",
      "Variables: ['Gross Default SMM', 'Prior Month Ending Loan Count']\n",
      "\n",
      "Equation: (1 - (1 - Curtail SMM)^12)\n",
      "Variables: ['Curtail SMM']\n",
      "\n",
      "Equation: WAC - (Note Rate - Coupon Rate)\n",
      "Variables: ['Note Rate', 'Coupon Rate', 'WAC']\n",
      "\n",
      "Equation: Future Non-Earning FCL Completion Amount * (Foreclosure Convery % + Foreclosure Deed in Lieu %) * (Presale Months + Postsale Months)\n",
      "Variables: ['Postsale Months', 'Foreclosure Deed in Lieu %', 'Foreclosure Deed', 'Future Non-Earning FCL Completion Amount', 'Lieu', 'Foreclosure Convery %', 'Presale Months']\n",
      "\n",
      "Equation: Net Default Count * (1-(Recovery% + Payoff% + Modification%))\n",
      "Variables: ['Modification%', 'Payoff%', 'Net Default Count', '-,Recovery%']\n",
      "\n",
      "Equation: Foreclosure Count *(1-On-Time Refereral%)\n",
      "Variables: ['1-On-Time Refereral%', 'Foreclosure Count ,-On-Time Refereral%']\n",
      "\n",
      "Equation: this is pure description, no math operators\n",
      "Variables: Description (not an equation)\n",
      "\n",
      "Equation: this is pure description, no math operators, for month-end\n",
      "Variables: ['this', 'this is pure description', 'pure description', 'no math operators', 'month-end', 'for month-end']\n",
      "\n"
     ]
    }
   ],
   "source": [
    "def extract_variables_combined(equation):\n",
    "    \"\"\"\n",
    "    Combines and validates results from regex and spaCy methods to find the best variable list.\n",
    "    - Identifies high-confidence variables found by both methods.\n",
    "    - Validates unique variables from each method against the high-confidence list to avoid partial matches.\n",
    "    - Merges the validated lists to produce a comprehensive result.\n",
    "    \"\"\"\n",
    "    # Regex check for operators is a good guard clause\n",
    "    if not re.search(r\"[\\+\\-\\*/\\^\\(\\)]\", equation):\n",
    "        return \"Description (not an equation)\"\n",
    "\n",
    "    # Extract variables using both methods\n",
    "    spacy_vars = set(extract_variables_spacy(equation))\n",
    "    regex_vars = set(extract_variables_regex(equation))\n",
    "    \n",
    "    # Find high-confidence variables (intersection)\n",
    "    high_confidence_vars = spacy_vars.intersection(regex_vars)\n",
    "    \n",
    "    # Find unique variables for each method\n",
    "    unique_spacy_vars = spacy_vars - regex_vars\n",
    "    unique_regex_vars = regex_vars - spacy_vars\n",
    "    \n",
    "    final_vars = set(high_confidence_vars)\n",
    "    \n",
    "    # Validate unique spaCy variables\n",
    "    for svar in unique_spacy_vars:\n",
    "        # Add if it's not a substring of a high-confidence variable\n",
    "        if not any(svar in hvar for hvar in high_confidence_vars):\n",
    "            final_vars.add(svar)\n",
    "            \n",
    "    # Validate unique regex variables\n",
    "    for rvar in unique_regex_vars:\n",
    "        # Add if it's not a substring of a high-confidence or already added spaCy variable\n",
    "        if not any(rvar in fvar for fvar in final_vars):\n",
    "            final_vars.add(rvar)\n",
    "            \n",
    "    return list(final_vars)\n",
    "\n",
    "# Process each equation and print the results\n",
    "for eq in equation_list:\n",
    "    print(f\"Equation: {eq}\")\n",
    "    variables = extract_variables_combined(eq)\n",
    "    print(f\"Variables: {variables}\\n\")"
   ]
  }
 ],
 "metadata": {
  "kernelspec": {
   "display_name": "excel-reader",
   "language": "python",
   "name": "python3"
  },
  "language_info": {
   "codemirror_mode": {
    "name": "ipython",
    "version": 3
   },
   "file_extension": ".py",
   "mimetype": "text/x-python",
   "name": "python",
   "nbconvert_exporter": "python",
   "pygments_lexer": "ipython3",
   "version": "3.11.9"
  }
 },
 "nbformat": 4,
 "nbformat_minor": 5
}
